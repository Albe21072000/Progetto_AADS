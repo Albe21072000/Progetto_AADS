{
 "cells": [
  {
   "cell_type": "code",
   "execution_count": 60,
   "metadata": {},
   "outputs": [],
   "source": [
    "from sympy import *\n",
    "from sympy.abc import *\n",
    "\n",
    "t=symbols('t')\n",
    "\n",
    "def polinomioAutoCorrelazione(stringa): #metodo che ritorna il polinomio di autocorrelazione di una stringa in input\n",
    "    #il primo termine del polinomio è sempre uno e per questo parto da una funzione che contiene solo uno\n",
    "    def f(t1):\n",
    "        return 1\n",
    "    func=f(t)\n",
    "    for i in range(len(stringa)-1): #ad ogni iterazione i confronto i primi n-i-1 caratteri della stringa (con n lunghezza della stringa) con gli ultimi n-i-1, se sono uguali aggiungo il termine t^i+1 al polinomio di autocorrelazione\n",
    "        if stringa[i+1:]==stringa[:-(i+1)]:\n",
    "            func= func + t ** (i+1) #se corrispondono aggiungo al polinomio il termine i+1-esimo\n",
    "    return func\n",
    "\n",
    "def avoidpattern(pattern, m): #metodo che restituisce la funzione generatrice delle parole dell'alfabeto di cardinalità m che non contengono il pattern passato in input\n",
    "    func=polinomioAutoCorrelazione(pattern) #trovo il polinomio di autocorrelazione del pattern\n",
    "    k=len(pattern)\n",
    "    avoidfunc=func/(t**k+(1-m*t)*func)\n",
    "    return avoidfunc\n",
    "\n",
    "def containpattern(pattern, m): #metodo che restituisce la funzione generatrice delle parole dell'alfabeto di cardinalità m che contengono il pattern passato in input\n",
    "    func=polinomioAutoCorrelazione(pattern) #trovo il polinomio di autocorrelazione del pattern\n",
    "    k=len(pattern)\n",
    "    containfunc=t**k/((1-m*t)*(t**k+(1-m*t)*func))\n",
    "    return containfunc"
   ]
  },
  {
   "cell_type": "code",
   "execution_count": 61,
   "metadata": {},
   "outputs": [
    {
     "data": {
      "text/plain": "t**5 + t**4 + 1",
      "text/latex": "$\\displaystyle t^{5} + t^{4} + 1$"
     },
     "execution_count": 61,
     "metadata": {},
     "output_type": "execute_result"
    }
   ],
   "source": [
    "polinomioAutoCorrelazione(\"aabbaa\") #trovo il polinomio di autocorrelazione della stringa aabbaa"
   ]
  },
  {
   "cell_type": "code",
   "execution_count": 120,
   "metadata": {},
   "outputs": [],
   "source": [
    "f=avoidpattern(\"boh\",26) #trovo la funzione generatrice delle parole dell'alfabeto binario {0,1} che non contengono il pattern 0010"
   ]
  },
  {
   "cell_type": "code",
   "execution_count": 121,
   "metadata": {},
   "outputs": [
    {
     "data": {
      "text/plain": "1/(t**3 - 26*t + 1)",
      "text/latex": "$\\displaystyle \\frac{1}{t^{3} - 26 t + 1}$"
     },
     "execution_count": 121,
     "metadata": {},
     "output_type": "execute_result"
    }
   ],
   "source": [
    "f"
   ]
  },
  {
   "cell_type": "code",
   "execution_count": 123,
   "metadata": {},
   "outputs": [
    {
     "data": {
      "text/plain": "1 + 26*t + 676*t**2 + 17575*t**3 + 456924*t**4 + 11879348*t**5 + 308845473*t**6 + 8029525374*t**7 + 208755780376*t**8 + 5427341444303*t**9 + 141102848026504*t**10 + O(t**11)",
      "text/latex": "$\\displaystyle 1 + 26 t + 676 t^{2} + 17575 t^{3} + 456924 t^{4} + 11879348 t^{5} + 308845473 t^{6} + 8029525374 t^{7} + 208755780376 t^{8} + 5427341444303 t^{9} + 141102848026504 t^{10} + O\\left(t^{11}\\right)$"
     },
     "execution_count": 123,
     "metadata": {},
     "output_type": "execute_result"
    }
   ],
   "source": [
    "series(f,t,n=11) #sviluppo in serie la funzione generatrice trovata in precedenza per verificarne la correttezza, in particolare osserviamo come il coefficiente associato al termine di grado i corrisponda al numero di parole di lunghezza i che non contengono il pattern"
   ]
  },
  {
   "cell_type": "code",
   "execution_count": 113,
   "metadata": {},
   "outputs": [],
   "source": [
    "f1=containpattern(\"boh\",26) #trovo la funzione generatrice delle parole dell'alfabeto binario {0,1} che contengono il pattern 0010"
   ]
  },
  {
   "cell_type": "code",
   "execution_count": 114,
   "metadata": {},
   "outputs": [
    {
     "data": {
      "text/plain": "t**3/((1 - 26*t)*(t**3 - 26*t + 1))",
      "text/latex": "$\\displaystyle \\frac{t^{3}}{\\left(1 - 26 t\\right) \\left(t^{3} - 26 t + 1\\right)}$"
     },
     "execution_count": 114,
     "metadata": {},
     "output_type": "execute_result"
    }
   ],
   "source": [
    "f1"
   ]
  },
  {
   "cell_type": "code",
   "execution_count": 115,
   "metadata": {},
   "outputs": [
    {
     "data": {
      "text/plain": "t**3 + 52*t**4 + 2028*t**5 + 70303*t**6 + 2284802*t**7 + 71284200*t**8 + 2162234673*t**9 + 64247626872*t**10 + O(t**11)",
      "text/latex": "$\\displaystyle t^{3} + 52 t^{4} + 2028 t^{5} + 70303 t^{6} + 2284802 t^{7} + 71284200 t^{8} + 2162234673 t^{9} + 64247626872 t^{10} + O\\left(t^{11}\\right)$"
     },
     "execution_count": 115,
     "metadata": {},
     "output_type": "execute_result"
    }
   ],
   "source": [
    "series(f1,t,n=11) # come prima sviluppo in serie la funzione generatrice trovata in precedenza per verificarne la correttezza, in particolare osserviamo che sommando i coefficienti associati ai termini t elevati alla stessa potenza n dei due sviluppi otterremo che il risultato sarà pari a 2^n, ossia il numero di possibili disposizioni con ripetizioni di {0,1} di lunghezza n, ossia tutte le parole di lunghezza n che è possibile generare con un alfabeto di cardinalità 2"
   ]
  },
  {
   "cell_type": "code",
   "execution_count": 118,
   "outputs": [],
   "source": [
    "import itertools\n",
    "import random\n",
    "\n",
    "def contaStringheConPattern(pattern, alfabeto, lungpar):\n",
    "    paroletot=[''.join(i) for i in itertools.product(alfabeto, repeat = lungpar)]\n",
    "    count = sum([1 for parola in paroletot if pattern in parola])\n",
    "    return count\n",
    "\n",
    "def contaStringheSenzaPattern(pattern, alfabeto, lungpar):\n",
    "    paroletot=[''.join(i) for i in itertools.product(alfabeto, repeat = lungpar)]\n",
    "    count = sum([1 for parola in paroletot if pattern not in parola])\n",
    "    return count\n",
    "\n",
    "def generaParolaCasuale(alfabeto,lunghezza):\n",
    "    return''.join(random.choices(alfabeto, k=lunghezza))"
   ],
   "metadata": {
    "collapsed": false
   }
  },
  {
   "cell_type": "code",
   "execution_count": 119,
   "outputs": [
    {
     "data": {
      "text/plain": "11879348"
     },
     "execution_count": 119,
     "metadata": {},
     "output_type": "execute_result"
    }
   ],
   "source": [
    "contaStringheSenzaPattern('boh',string.ascii_lowercase,5)"
   ],
   "metadata": {
    "collapsed": false
   }
  },
  {
   "cell_type": "code",
   "execution_count": 70,
   "outputs": [
    {
     "data": {
      "text/plain": "'dfrzh'"
     },
     "execution_count": 70,
     "metadata": {},
     "output_type": "execute_result"
    }
   ],
   "source": [
    "generaParolaCasuale(string.ascii_lowercase,5)"
   ],
   "metadata": {
    "collapsed": false
   }
  },
  {
   "cell_type": "code",
   "execution_count": 1,
   "outputs": [],
   "source": [
    "def approssimaRapportoParoleConPattern(pattern, alfabeto, lungpar, numit):\n",
    "    count=0\n",
    "    for i in range(1, numit):\n",
    "        par=generaParolaCasuale(alfabeto,lungpar)\n",
    "        if pattern in par:\n",
    "            count=count+1\n",
    "    return count/numit\n",
    "\n",
    "def approssimaRapportoParoleSenzaPattern(pattern, alfabeto, lungpar, numit):\n",
    "    count=0\n",
    "    for i in range(1, numit):\n",
    "        par=generaParolaCasuale(alfabeto,lungpar)\n",
    "        if pattern not in par:\n",
    "            count=count+1\n",
    "    return count/numit"
   ],
   "metadata": {
    "collapsed": false
   }
  },
  {
   "cell_type": "code",
   "execution_count": 131,
   "outputs": [
    {
     "data": {
      "text/plain": "0.00043"
     },
     "execution_count": 131,
     "metadata": {},
     "output_type": "execute_result"
    }
   ],
   "source": [
    "parcon=approssimaRapportoParoleConPattern('boh', string.ascii_lowercase, 10, 100000)\n",
    "parcon"
   ],
   "metadata": {
    "collapsed": false
   }
  },
  {
   "cell_type": "code",
   "execution_count": 132,
   "outputs": [
    {
     "data": {
      "text/plain": "0.9996"
     },
     "execution_count": 132,
     "metadata": {},
     "output_type": "execute_result"
    }
   ],
   "source": [
    "parsenz=approssimaRapportoParoleSenzaPattern('boh', string.ascii_lowercase, 10, 100000)\n",
    "parsenz"
   ],
   "metadata": {
    "collapsed": false
   }
  },
  {
   "cell_type": "code",
   "execution_count": 133,
   "outputs": [
    {
     "data": {
      "text/plain": "1.00003"
     },
     "execution_count": 133,
     "metadata": {},
     "output_type": "execute_result"
    }
   ],
   "source": [
    "parcon+parsenz"
   ],
   "metadata": {
    "collapsed": false
   }
  },
  {
   "cell_type": "code",
   "execution_count": null,
   "outputs": [],
   "source": [],
   "metadata": {
    "collapsed": false
   }
  }
 ],
 "metadata": {
  "kernelspec": {
   "display_name": "Python 3 (ipykernel)",
   "language": "python",
   "name": "python3"
  },
  "language_info": {
   "codemirror_mode": {
    "name": "ipython",
    "version": 3
   },
   "file_extension": ".py",
   "mimetype": "text/x-python",
   "name": "python",
   "nbconvert_exporter": "python",
   "pygments_lexer": "ipython3",
   "version": "3.9.12"
  }
 },
 "nbformat": 4,
 "nbformat_minor": 1
}
